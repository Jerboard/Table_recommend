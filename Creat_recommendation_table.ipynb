{
 "cells": [
  {
   "cell_type": "markdown",
   "id": "92a025ec",
   "metadata": {},
   "source": [
    "### Initially, the comments were written in Russian. Translated by Google Translator\n",
    "\n",
    "### Изначально комментарии были написаны на русском языке. Переведены через Google-переводчик"
   ]
  },
  {
   "cell_type": "markdown",
   "id": "3d54fa8c",
   "metadata": {},
   "source": [
    "# Task:\n",
    "\n",
    "Using an SQL query, extract data from the database about customers who have bought more than one course.\n",
    "Based on this data, make a table of recommendations for purchases of the following courses."
   ]
  },
  {
   "cell_type": "markdown",
   "id": "98efcf80",
   "metadata": {},
   "source": [
    "# Задача:\n",
    "\n",
    "При помощи SQL-запроса извлечь из базы данных данные о клиентах, купивших более одного курса.\n",
    "Составить на основе этих данных таблицу рекомендаций для покупок следующих курсов."
   ]
  },
  {
   "cell_type": "code",
   "execution_count": 1,
   "id": "9295af70",
   "metadata": {},
   "outputs": [],
   "source": [
    "# importing the main libraries and functions\n",
    "# импортируем основные библиотеки и функции\n",
    "import pandas as pd\n",
    "import numpy as np\n",
    "import itertools as it\n",
    "from collections import Counter as ct\n",
    "import psycopg2\n",
    "import psycopg2.extras"
   ]
  },
  {
   "cell_type": "code",
   "execution_count": 2,
   "id": "4eb58fbc",
   "metadata": {},
   "outputs": [
    {
     "data": {
      "text/html": [
       "<div>\n",
       "<style scoped>\n",
       "    .dataframe tbody tr th:only-of-type {\n",
       "        vertical-align: middle;\n",
       "    }\n",
       "\n",
       "    .dataframe tbody tr th {\n",
       "        vertical-align: top;\n",
       "    }\n",
       "\n",
       "    .dataframe thead th {\n",
       "        text-align: right;\n",
       "    }\n",
       "</style>\n",
       "<table border=\"1\" class=\"dataframe\">\n",
       "  <thead>\n",
       "    <tr style=\"text-align: right;\">\n",
       "      <th></th>\n",
       "      <th>user_id</th>\n",
       "      <th>resource_id</th>\n",
       "    </tr>\n",
       "  </thead>\n",
       "  <tbody>\n",
       "    <tr>\n",
       "      <th>0</th>\n",
       "      <td>1010882</td>\n",
       "      <td>490</td>\n",
       "    </tr>\n",
       "    <tr>\n",
       "      <th>1</th>\n",
       "      <td>1010802</td>\n",
       "      <td>514</td>\n",
       "    </tr>\n",
       "    <tr>\n",
       "      <th>2</th>\n",
       "      <td>1120298</td>\n",
       "      <td>514</td>\n",
       "    </tr>\n",
       "    <tr>\n",
       "      <th>3</th>\n",
       "      <td>750528</td>\n",
       "      <td>552</td>\n",
       "    </tr>\n",
       "    <tr>\n",
       "      <th>4</th>\n",
       "      <td>191574</td>\n",
       "      <td>523</td>\n",
       "    </tr>\n",
       "  </tbody>\n",
       "</table>\n",
       "</div>"
      ],
      "text/plain": [
       "   user_id  resource_id\n",
       "0  1010882          490\n",
       "1  1010802          514\n",
       "2  1120298          514\n",
       "3   750528          552\n",
       "4   191574          523"
      ]
     },
     "execution_count": 2,
     "metadata": {},
     "output_type": "execute_result"
    }
   ],
   "source": [
    "# We request the data we are interested in using an SQL query\n",
    "# Запрашиваем интересующие нас данные через SQL\n",
    "def getData():\n",
    "    query = '''with t_1 as \n",
    "(select     \n",
    "*\n",
    "from final.cart_items ci left join  final.carts ct on ci.cart_id=ct.id\n",
    "where ct.state = 'successful' and ci.resource_type = 'Course' \n",
    "),      \n",
    "\n",
    "t_2 as\n",
    "(select\n",
    "user_id,\n",
    "count(distinct resource_id) cours_count\n",
    "from t_1 \n",
    "group by 1\n",
    "having count(distinct resource_id) > 1\n",
    ")\n",
    "\n",
    "select\n",
    "t_2.user_id,\n",
    "resource_id\n",
    "from t_2 left join t_1 on t_2.user_id=t_1.user_id'''\n",
    "    conn = psycopg2.connect(dbname='skillfactory',\n",
    "                            user='skillfactory',\n",
    "                            host='84.201.134.129',\n",
    "                            password='cCkxxLVrDE8EbvjueeMedPKt',\n",
    "                            port=5432)\n",
    "    dict_cur = conn.cursor(cursor_factory=psycopg2.extras.DictCursor)\n",
    "    dict_cur.execute(query)\n",
    "    rows = dict_cur.fetchall()\n",
    "    data = []\n",
    "    for row in rows:\n",
    "        data.append(dict(row))\n",
    "    dict_cur.close()\n",
    "    conn.close()\n",
    "    return data\n",
    "cours_df=pd.DataFrame(getData())\n",
    "\n",
    " # check the correctness of the received data\n",
    " # проверяем корректность полученых данных\n",
    "cours_df.head()"
   ]
  },
  {
   "cell_type": "code",
   "execution_count": 3,
   "id": "5dedfc84",
   "metadata": {},
   "outputs": [
    {
     "data": {
      "text/html": [
       "<div>\n",
       "<style scoped>\n",
       "    .dataframe tbody tr th:only-of-type {\n",
       "        vertical-align: middle;\n",
       "    }\n",
       "\n",
       "    .dataframe tbody tr th {\n",
       "        vertical-align: top;\n",
       "    }\n",
       "\n",
       "    .dataframe thead th {\n",
       "        text-align: right;\n",
       "    }\n",
       "</style>\n",
       "<table border=\"1\" class=\"dataframe\">\n",
       "  <thead>\n",
       "    <tr style=\"text-align: right;\">\n",
       "      <th></th>\n",
       "      <th>user_id</th>\n",
       "      <th>resource_id</th>\n",
       "    </tr>\n",
       "  </thead>\n",
       "  <tbody>\n",
       "    <tr>\n",
       "      <th>0</th>\n",
       "      <td>51</td>\n",
       "      <td>[516, 1099]</td>\n",
       "    </tr>\n",
       "    <tr>\n",
       "      <th>1</th>\n",
       "      <td>6117</td>\n",
       "      <td>[356, 357, 1125]</td>\n",
       "    </tr>\n",
       "    <tr>\n",
       "      <th>2</th>\n",
       "      <td>10275</td>\n",
       "      <td>[553, 1147]</td>\n",
       "    </tr>\n",
       "    <tr>\n",
       "      <th>3</th>\n",
       "      <td>10457</td>\n",
       "      <td>[361, 1138]</td>\n",
       "    </tr>\n",
       "    <tr>\n",
       "      <th>4</th>\n",
       "      <td>17166</td>\n",
       "      <td>[356, 357]</td>\n",
       "    </tr>\n",
       "  </tbody>\n",
       "</table>\n",
       "</div>"
      ],
      "text/plain": [
       "   user_id       resource_id\n",
       "0       51       [516, 1099]\n",
       "1     6117  [356, 357, 1125]\n",
       "2    10275       [553, 1147]\n",
       "3    10457       [361, 1138]\n",
       "4    17166        [356, 357]"
      ]
     },
     "execution_count": 3,
     "metadata": {},
     "output_type": "execute_result"
    }
   ],
   "source": [
    "# we group data by users, for each user we create a list of courses purchased by them\n",
    "# групперуем данные по пользователям, для каждого пользователя создаём список купленых им курсов\n",
    "group_cours_df = cours_df.groupby(['user_id'])['resource_id'].apply(lambda x: list(np.unique(x))).reset_index()\n",
    "group_cours_df.head()"
   ]
  },
  {
   "cell_type": "code",
   "execution_count": 4,
   "id": "fe10fef2",
   "metadata": {},
   "outputs": [
    {
     "data": {
      "text/plain": [
       "40017"
      ]
     },
     "execution_count": 4,
     "metadata": {},
     "output_type": "execute_result"
    }
   ],
   "source": [
    "# using the combinations function from the itertools module, we create pairs of courses purchased by one user\n",
    "# при помощи функции combinations из модуля itertools, создаём пары курсов, купенные одним пользователем\n",
    "list_cours = list()\n",
    "for x in group_cours_df['resource_id']:\n",
    "    for p in it.combinations(x,2):\n",
    "        list_cours.append(p)\n",
    "len(list_cours)"
   ]
  },
  {
   "cell_type": "code",
   "execution_count": 5,
   "id": "c0b871c7",
   "metadata": {},
   "outputs": [
    {
     "data": {
      "text/html": [
       "<div>\n",
       "<style scoped>\n",
       "    .dataframe tbody tr th:only-of-type {\n",
       "        vertical-align: middle;\n",
       "    }\n",
       "\n",
       "    .dataframe tbody tr th {\n",
       "        vertical-align: top;\n",
       "    }\n",
       "\n",
       "    .dataframe thead th {\n",
       "        text-align: right;\n",
       "    }\n",
       "</style>\n",
       "<table border=\"1\" class=\"dataframe\">\n",
       "  <thead>\n",
       "    <tr style=\"text-align: right;\">\n",
       "      <th></th>\n",
       "      <th>count_purc</th>\n",
       "    </tr>\n",
       "  </thead>\n",
       "  <tbody>\n",
       "    <tr>\n",
       "      <th>count</th>\n",
       "      <td>3989.000000</td>\n",
       "    </tr>\n",
       "    <tr>\n",
       "      <th>mean</th>\n",
       "      <td>10.031838</td>\n",
       "    </tr>\n",
       "    <tr>\n",
       "      <th>std</th>\n",
       "      <td>26.355998</td>\n",
       "    </tr>\n",
       "    <tr>\n",
       "      <th>min</th>\n",
       "      <td>1.000000</td>\n",
       "    </tr>\n",
       "    <tr>\n",
       "      <th>25%</th>\n",
       "      <td>1.000000</td>\n",
       "    </tr>\n",
       "    <tr>\n",
       "      <th>50%</th>\n",
       "      <td>3.000000</td>\n",
       "    </tr>\n",
       "    <tr>\n",
       "      <th>75%</th>\n",
       "      <td>9.000000</td>\n",
       "    </tr>\n",
       "    <tr>\n",
       "      <th>max</th>\n",
       "      <td>797.000000</td>\n",
       "    </tr>\n",
       "  </tbody>\n",
       "</table>\n",
       "</div>"
      ],
      "text/plain": [
       "        count_purc\n",
       "count  3989.000000\n",
       "mean     10.031838\n",
       "std      26.355998\n",
       "min       1.000000\n",
       "25%       1.000000\n",
       "50%       3.000000\n",
       "75%       9.000000\n",
       "max     797.000000"
      ]
     },
     "execution_count": 5,
     "metadata": {},
     "output_type": "execute_result"
    }
   ],
   "source": [
    "# using the Counter function, we create a list of all unique pairs and the number of their repetitions\n",
    "# с помощью функции Counter создаём список всех уникальных пар и количество их повторений\n",
    "count_list_cours = ct(list_cours)\n",
    "\n",
    "# we create a dataframe based on the list. The first column is a pair, the second is the number of repetitions of the pair\n",
    "# на основе списка создаём датафрейм. Первый столбец - пара, второй количество повторений пары\n",
    "cours_pair_df = pd.DataFrame.from_dict(count_list_cours, orient='index').reset_index()\n",
    "cours_pair_df.columns = ['pair','count_purc']\n",
    "\n",
    "# checking the resulting dataframe\n",
    "# проверяем получившийся датафрейм\n",
    "cours_pair_df.describe()"
   ]
  },
  {
   "cell_type": "code",
   "execution_count": 6,
   "id": "8bfa1623",
   "metadata": {},
   "outputs": [],
   "source": [
    "# for recommendations, we take the upper quartile\n",
    "# using the numpy library and the percentile function, we select the most popular 25% of pairs, write them into the dictionary\n",
    "# для рекомендаций возмём верхний квартиль\n",
    "# при помощи библиотеки numpy  и функции percentile отбираем самые популярные 25% пар, записываем их в словарь\n",
    "percent = np.percentile(cours_pair_df['count_purc'],75)\n",
    "popular_pair_dict = {k: v for k, v in count_list_cours.items() if v > percent  }"
   ]
  },
  {
   "cell_type": "code",
   "execution_count": 7,
   "id": "069543f8",
   "metadata": {},
   "outputs": [],
   "source": [
    "# creating the recommend auxiliary function \n",
    "# iterates over the keys of the popular_pair_dict dictionary, selecting a suitable recommendation\n",
    "# создаём вспомогательную функцию recommend \n",
    "# перебирает ключи словаря popular_pair_dict, подбирая подходящую рекомендацию\n",
    "def recommend (course):\n",
    "    x = []\n",
    "    for i in popular_pair_dict.keys():\n",
    "        if i [0] == course:\n",
    "            x.append((i,popular_pair_dict[i]))\n",
    "    scl = sorted( x, key=lambda x: x[1], reverse = True)\n",
    "    return scl[:2]"
   ]
  },
  {
   "cell_type": "code",
   "execution_count": 8,
   "id": "4c6fb053",
   "metadata": {},
   "outputs": [],
   "source": [
    "# creating a recommendation for courses for which there was no popular pair, we take the most popular pair of courses for this\n",
    "# создаём рекомендацию для курсов, к которым не нашлось популярной пары, берём для этого самую популярную пару курсов\n",
    "is_not_pair_1 = cours_pair_df.sort_values('count_purc', ascending= False).iloc[0][0][0]\n",
    "is_not_pair_2 = cours_pair_df.sort_values('count_purc', ascending= False).iloc[0][0][1]"
   ]
  },
  {
   "cell_type": "code",
   "execution_count": 9,
   "id": "55d52794",
   "metadata": {},
   "outputs": [],
   "source": [
    "# creating a unique list of all courses\n",
    "# создаём уникальный список всех курсов\n",
    "courses=cours_df['resource_id'].unique()"
   ]
  },
  {
   "cell_type": "code",
   "execution_count": 10,
   "id": "f662f9ab",
   "metadata": {},
   "outputs": [],
   "source": [
    "# creating an empty recommendation table\n",
    "# создаём пустую таблицу рекомендаций\n",
    "advice_df = pd.DataFrame(columns = ['recommendation_1','recommendation_2'])\n",
    "\n",
    "# using the recommend function, we fill in this table, filling in the empty values with the course from the most popular pair\n",
    "# с помощью функции recommend заполняем эту таблицу, заполняя пустые значения курсом из самой популярной пары\n",
    "for i in courses:\n",
    "    if len(recommend(i)) == 2:\n",
    "        advice_df.loc[i] = [recommend(i)[0][0][1], recommend(i)[1][0][1]]\n",
    "    elif len(recommend(i)) == 1:\n",
    "        advice_df.loc[i] = [recommend(i)[0][0][1], is_not_pair_2]\n",
    "    else:\n",
    "        advice_df.loc[i] = [is_not_pair_1, is_not_pair_2]"
   ]
  },
  {
   "cell_type": "code",
   "execution_count": 11,
   "id": "5ece6f79",
   "metadata": {},
   "outputs": [],
   "source": [
    "# moving the course number from the index to a separate column\n",
    "# переносим номер курса из индекса в отдельную колонку\n",
    "advice_df=advice_df.reset_index()\n",
    "advice_df=advice_df.rename(columns = {'index' : 'course'})"
   ]
  },
  {
   "cell_type": "code",
   "execution_count": 15,
   "id": "b048b45c",
   "metadata": {},
   "outputs": [
    {
     "name": "stdout",
     "output_type": "stream",
     "text": [
      "Номер курса  735\n",
      "Курс не найден(\n"
     ]
    }
   ],
   "source": [
    "# creating a script to search for recommendations by the number of the entered course\n",
    "# создаём скрипт для поиска рекомендаций по номеру введённого курса\n",
    "course_search = int(input('Номер курса  '))\n",
    "if course_search in courses:\n",
    "    info = advice_df[advice_df['course'] == course_search]\n",
    "    print('Рекомендуем курсы', info.iloc[0][1],'и',info.iloc[0][2])\n",
    "else:\n",
    "    print('Курс не найден(')"
   ]
  },
  {
   "cell_type": "code",
   "execution_count": null,
   "id": "67ff8dcf",
   "metadata": {},
   "outputs": [],
   "source": [
    "#  record the resulting dataframe as a csv file\n",
    "# записываем получившийся датафрейм в виде csv-файла\n",
    "advice_df.to_csv('advice_df.csv')"
   ]
  }
 ],
 "metadata": {
  "kernelspec": {
   "display_name": "Python 3",
   "language": "python",
   "name": "python3"
  },
  "language_info": {
   "codemirror_mode": {
    "name": "ipython",
    "version": 3
   },
   "file_extension": ".py",
   "mimetype": "text/x-python",
   "name": "python",
   "nbconvert_exporter": "python",
   "pygments_lexer": "ipython3",
   "version": "3.8.8"
  }
 },
 "nbformat": 4,
 "nbformat_minor": 5
}
